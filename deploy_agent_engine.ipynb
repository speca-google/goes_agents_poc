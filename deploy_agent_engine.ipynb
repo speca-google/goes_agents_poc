{
 "cells": [
  {
   "cell_type": "code",
   "execution_count": 1,
   "id": "9cc29332",
   "metadata": {},
   "outputs": [],
   "source": [
    "# Copyright 2025 Google LLC\n",
    "#\n",
    "# Licensed under the Apache License, Version 2.0 (the \"License\");\n",
    "# you may not use this file except in compliance with the License.\n",
    "# You may obtain a copy of the License at\n",
    "#\n",
    "#     http://www.apache.org/licenses/LICENSE-2.0\n",
    "#\n",
    "# Unless required by applicable law or agreed to in writing, software\n",
    "# distributed under the License is distributed on an \"AS IS\" BASIS,\n",
    "# WITHOUT WARRANTIES OR CONDITIONS OF ANY KIND, either express or implied.\n",
    "# See the License for the specific language governing permissions and\n",
    "# limitations under the License."
   ]
  },
  {
   "cell_type": "markdown",
   "id": "2936e58f",
   "metadata": {},
   "source": [
    "# Deploy ADK Agent in AI Engine\n",
    "\n",
    "This notebook provides a step-by-step to deploy an Agent Created using Agent Development Kit on Agent Engine (ReasonEngine on Vertex AI)\n",
    "\n",
    "**Important**: This notebook consider that the Agent was built with ADK and the agent files are inside an agent folder and the dependencies in a file config.yaml\n",
    "\n",
    "Folders structure (example): \n",
    "```\n",
    "parent_folder/\n",
    "    agent_folder/\n",
    "        __init__.py\n",
    "        agent.py\n",
    "        config.yaml\n",
    "        .env\n",
    "    deploy_agent_engine.ipynb\n",
    "```\n",
    "\n",
    "config.yaml (example): \n",
    "```yaml\n",
    "agent_name: 'agent_name'\n",
    "agent_display_name: 'Agent Name'\n",
    "agent_description: 'Useful agent to help users'\n",
    "\n",
    "deploy:\n",
    "  dependencies: ['google-cloud-aiplatform[agent_engines]', 'google-adk', 'cloudpickle', 'pydantic']\n",
    "```\n"
   ]
  },
  {
   "cell_type": "markdown",
   "id": "2a55e116",
   "metadata": {},
   "source": [
    "### Setup and Config"
   ]
  },
  {
   "cell_type": "code",
   "execution_count": 2,
   "id": "3da3c323",
   "metadata": {},
   "outputs": [
    {
     "name": "stdout",
     "output_type": "stream",
     "text": [
      "google-adk==1.3.0\n",
      "google-cloud-aiplatform==1.97.0\n"
     ]
    }
   ],
   "source": [
    "# Checking the google-adk and google-cloud-aiplatform versions\n",
    "!pip freeze | grep google-adk\n",
    "!pip freeze | grep google-cloud-aiplatform"
   ]
  },
  {
   "cell_type": "code",
   "execution_count": 3,
   "id": "8a7db7f0",
   "metadata": {},
   "outputs": [
    {
     "name": "stdout",
     "output_type": "stream",
     "text": [
      "Your browser has been opened to visit:\n",
      "\n",
      "    https://accounts.google.com/o/oauth2/auth?response_type=code&client_id=764086051850-6qr4p6gpi6hn506pt8ejuq83di341hur.apps.googleusercontent.com&redirect_uri=http%3A%2F%2Flocalhost%3A8085%2F&scope=openid+https%3A%2F%2Fwww.googleapis.com%2Fauth%2Fuserinfo.email+https%3A%2F%2Fwww.googleapis.com%2Fauth%2Fcloud-platform+https%3A%2F%2Fwww.googleapis.com%2Fauth%2Fsqlservice.login&state=g2oD1ns76LndEeLg4Ahk6UNgJC4JeY&access_type=offline&code_challenge=mRkzg8ZzaBoXkz6CFGYtwoWa_Nqehc5c_Uqu25ux1Y0&code_challenge_method=S256\n",
      "\n",
      "\n",
      "Credentials saved to file: [/Users/speca/.config/gcloud/application_default_credentials.json]\n",
      "\n",
      "These credentials will be used by any library that requests Application Default Credentials (ADC).\n",
      "\n",
      "Quota project \"speca-sandbox-argolis\" was added to ADC which can be used by Google client libraries for billing and quota. Note that some services may still bill the project owning the resource.\n"
     ]
    }
   ],
   "source": [
    "# Authentication on gcloud\n",
    "!gcloud auth application-default login"
   ]
  },
  {
   "cell_type": "code",
   "execution_count": 4,
   "id": "20089cc9",
   "metadata": {},
   "outputs": [],
   "source": [
    "# Basic Libraries\n",
    "import os \n",
    "import vertexai\n",
    "import yaml\n",
    "\n",
    "# AI Engine on Vertex AI \n",
    "from vertexai import agent_engines\n",
    "\n",
    "# Library for AI Engine with ADK\n",
    "from vertexai.preview import reasoning_engines\n",
    "\n",
    "# To view JSON response formatted\n",
    "import json\n",
    "from IPython.display import display,Markdown,JSON\n"
   ]
  },
  {
   "cell_type": "code",
   "execution_count": 5,
   "id": "84fd6ee3",
   "metadata": {},
   "outputs": [],
   "source": [
    "# Load Agent Config\n",
    "AGENT_DIR = \"goes_fiscal_agent\"\n",
    "\n",
    "# Load environment variables from .env file from agent Directory \n",
    "from dotenv import load_dotenv\n",
    "env_file = f'./{AGENT_DIR}/.env'\n",
    "load_dotenv(env_file)\n",
    "\n",
    "# Load config from agents (Params and dependencies for deploy)\n",
    "with open(f'./{AGENT_DIR}/config.yaml', 'r') as f:\n",
    "    config = yaml.safe_load(f)\n",
    "\n",
    "# For Vertex AI SDK \n",
    "PROJECT_ID = \"speca-sandbox-argolis\"\n",
    "LOCATION = \"us-central1\"\n",
    "BUCKET = \"gs://speca-argolis-adk-agents\""
   ]
  },
  {
   "cell_type": "markdown",
   "id": "d7aa9d34",
   "metadata": {},
   "source": [
    "### Instantiate Agent from Directory"
   ]
  },
  {
   "cell_type": "code",
   "execution_count": 6,
   "id": "fe2d6771",
   "metadata": {},
   "outputs": [],
   "source": [
    "# Importing Agent Module from AGENT_DIR folder\n",
    "import importlib\n",
    "agent_module = importlib.import_module(f\"{AGENT_DIR}.agent\")\n",
    "\n",
    "# Instantiate the Assistant as an ADK App \n",
    "adk_agent = reasoning_engines.AdkApp(\n",
    "    agent=agent_module.root_agent,\n",
    ")"
   ]
  },
  {
   "cell_type": "markdown",
   "id": "6151601a",
   "metadata": {},
   "source": [
    "### Running Agent Local (Optional)"
   ]
  },
  {
   "cell_type": "code",
   "execution_count": 7,
   "id": "52fed743",
   "metadata": {},
   "outputs": [
    {
     "data": {
      "text/markdown": [
       "```json\n",
       "{\n",
       "  \"content\": {\n",
       "    \"parts\": [\n",
       "      {\n",
       "        \"text\": \"Hola, soy un agente especializado en el análisis de datos fiscales del Gobierno de El Salvador. Puedo ayudarte a obtener información sobre la ejecución del presupuesto público, gastos por institución, área de gestión, fuente de financiamiento y diferentes etapas presupuestarias como lo programado, modificado, comprometido y devengado.\\n\\n¿Tienes alguna pregunta específica sobre el presupuesto o el gasto público?\"\n",
       "      }\n",
       "    ],\n",
       "    \"role\": \"model\"\n",
       "  },\n",
       "  \"usage_metadata\": {\n",
       "    \"candidates_token_count\": 76,\n",
       "    \"candidates_tokens_details\": [\n",
       "      {\n",
       "        \"modality\": \"TEXT\",\n",
       "        \"token_count\": 76\n",
       "      }\n",
       "    ],\n",
       "    \"prompt_token_count\": 1491,\n",
       "    \"prompt_tokens_details\": [\n",
       "      {\n",
       "        \"modality\": \"TEXT\",\n",
       "        \"token_count\": 1491\n",
       "      }\n",
       "    ],\n",
       "    \"thoughts_token_count\": 79,\n",
       "    \"total_token_count\": 1646,\n",
       "    \"traffic_type\": \"ON_DEMAND\"\n",
       "  },\n",
       "  \"invocation_id\": \"e-e95a9966-e816-47da-bc27-dc76e97378cd\",\n",
       "  \"author\": \"goes_fiscal_agent\",\n",
       "  \"actions\": {\n",
       "    \"state_delta\": {},\n",
       "    \"artifact_delta\": {},\n",
       "    \"requested_auth_configs\": {}\n",
       "  },\n",
       "  \"id\": \"7iaU5dU5\",\n",
       "  \"timestamp\": 1750044479.507381\n",
       "}\n",
       "```"
      ],
      "text/plain": [
       "<IPython.core.display.Markdown object>"
      ]
     },
     "metadata": {},
     "output_type": "display_data"
    }
   ],
   "source": [
    "# Run a simple query\n",
    "for event in adk_agent.stream_query(\n",
    "    user_id=\"user_1\",\n",
    "    message=\"Hola o que puedes hacer?\",\n",
    "):\n",
    "    pass\n",
    "\n",
    "# Formatted output\n",
    "display(Markdown(f\"```json\\n{json.dumps(event, indent=2,ensure_ascii=False)}\\n```\"))"
   ]
  },
  {
   "cell_type": "markdown",
   "id": "1fb6b70a",
   "metadata": {},
   "source": [
    "### Deploy on Agent Engine"
   ]
  },
  {
   "cell_type": "code",
   "execution_count": 8,
   "id": "a46cc108",
   "metadata": {},
   "outputs": [],
   "source": [
    "# Instantiate Vertex AI\n",
    "vertexai.init(\n",
    "    project=PROJECT_ID,\n",
    "    location=LOCATION,\n",
    "    staging_bucket=BUCKET,\n",
    ")"
   ]
  },
  {
   "cell_type": "code",
   "execution_count": 9,
   "id": "396f9745",
   "metadata": {},
   "outputs": [
    {
     "name": "stdout",
     "output_type": "stream",
     "text": [
      "============================ \n",
      "Agent: Procurement Analytics Agent\n",
      "Resoruce Name: projects/809256159830/locations/us-central1/reasoningEngines/2791853536969752576\n",
      "Created/updated at: 2025-06-05 17:22:44.496217+00:00 \n",
      "\n",
      "\n",
      "============================ \n",
      "Agent: Legal Analytics Agent\n",
      "Resoruce Name: projects/809256159830/locations/us-central1/reasoningEngines/5506961162320740352\n",
      "Created/updated at: 2025-05-31 15:40:31.286244+00:00 \n",
      "\n",
      "\n",
      "============================ \n",
      "Agent: Data Assistant\n",
      "Resoruce Name: projects/809256159830/locations/us-central1/reasoningEngines/7923142362405011456\n",
      "Created/updated at: 2025-05-31 12:08:18.375253+00:00 \n",
      "\n",
      "\n"
     ]
    }
   ],
   "source": [
    "## Retrieve all existent Agent Engine on your project\n",
    "for agent in agent_engines.list():\n",
    "    print(f\"============================ \\nAgent: {agent.display_name}\\nResoruce Name: {agent.resource_name}\\nCreated/updated at: {agent.update_time} \\n\\n\" )"
   ]
  },
  {
   "cell_type": "code",
   "execution_count": 10,
   "id": "2ad8be79",
   "metadata": {},
   "outputs": [
    {
     "data": {
      "text/plain": [
       "['google-cloud-aiplatform[agent_engines,adk]',\n",
       " 'google-adk',\n",
       " 'cloudpickle',\n",
       " 'pydantic',\n",
       " 'google-cloud-bigquery',\n",
       " 'pandas',\n",
       " 'db-dtypes',\n",
       " 'pyyaml']"
      ]
     },
     "execution_count": 10,
     "metadata": {},
     "output_type": "execute_result"
    }
   ],
   "source": [
    "# Read Requirements for Agent from config file\n",
    "# Usually this ['google-cloud-aiplatform[agent_engines]', 'google-adk', 'cloudpickle'] plus the packages that agent needs\n",
    "requirements = config['deploy']['dependencies']\n",
    "requirements"
   ]
  },
  {
   "cell_type": "code",
   "execution_count": 11,
   "id": "2892d8bc",
   "metadata": {},
   "outputs": [
    {
     "data": {
      "text/plain": [
       "['goes_fiscal_agent']"
      ]
     },
     "execution_count": 11,
     "metadata": {},
     "output_type": "execute_result"
    }
   ],
   "source": [
    "# Extra packages from agent folder (This is all .py files inside Agent Directory)\n",
    "extra_packages = [AGENT_DIR]\n",
    "extra_packages"
   ]
  },
  {
   "cell_type": "code",
   "execution_count": 12,
   "id": "0dd2f250",
   "metadata": {},
   "outputs": [
    {
     "data": {
      "text/plain": [
       "{'BQ_PROJECT_ID': 'speca-sandbox-argolis',\n",
       " 'BQ_DATASET_ID': 'goes_data',\n",
       " 'AGENT_ROOT_MODEL': 'gemini-2.5-flash-preview-04-17',\n",
       " 'AGENT_TOOL_MODEL': 'gemini-2.5-flash-preview-04-17'}"
      ]
     },
     "execution_count": 12,
     "metadata": {},
     "output_type": "execute_result"
    }
   ],
   "source": [
    "# Load Variables on env_vars dict to be used when creating the Agent\n",
    "env_vars = {}\n",
    "\n",
    "env_vars[\"BQ_PROJECT_ID\"] = os.getenv(\"BQ_PROJECT_ID\")\n",
    "env_vars[\"BQ_DATASET_ID\"] = os.getenv(\"BQ_DATASET_ID\")\n",
    "env_vars[\"AGENT_ROOT_MODEL\"] = os.getenv(\"AGENT_ROOT_MODEL\")\n",
    "env_vars[\"AGENT_TOOL_MODEL\"] = os.getenv(\"AGENT_TOOL_MODEL\")\n",
    "\n",
    "env_vars"
   ]
  },
  {
   "cell_type": "code",
   "execution_count": null,
   "id": "662128d9",
   "metadata": {},
   "outputs": [],
   "source": [
    "## (OPTIONAL) - Update the agent at the same Agent Resource \n",
    "# agent_engines.update(\n",
    "#     resource_name=remote_agent.resource_name,    # Required.\n",
    "#     agent_engine = adk_agent,             # The Agent instantiated as ADK agent\n",
    "#     requirements=requirements,            # Requirements file\n",
    "#     extra_packages=extra_packages,        # Extra packages\n",
    "#     display_name=config['agent_name'],    # Display name  \n",
    "#     description=config['agent_name'],     # Description\n",
    "#     env_vars=env_vars                     # Env Vars dict\n",
    "# )"
   ]
  },
  {
   "cell_type": "code",
   "execution_count": 13,
   "id": "f3aa76bc",
   "metadata": {},
   "outputs": [
    {
     "name": "stdout",
     "output_type": "stream",
     "text": [
      "Identified the following requirements: {'cloudpickle': '3.1.1', 'google-cloud-aiplatform': '1.97.0', 'pydantic': '2.11.7'}\n",
      "The final list of requirements: ['google-cloud-aiplatform[agent_engines,adk]', 'google-adk', 'cloudpickle', 'pydantic', 'google-cloud-bigquery', 'pandas', 'db-dtypes', 'pyyaml']\n",
      "Using bucket speca-argolis-adk-agents\n",
      "Wrote to gs://speca-argolis-adk-agents/agent_engine/agent_engine.pkl\n",
      "Writing to gs://speca-argolis-adk-agents/agent_engine/requirements.txt\n",
      "Creating in-memory tarfile of extra_packages\n",
      "Writing to gs://speca-argolis-adk-agents/agent_engine/dependencies.tar.gz\n",
      "Creating AgentEngine\n",
      "Create AgentEngine backing LRO: projects/809256159830/locations/us-central1/reasoningEngines/3333341023416877056/operations/4175457906843451392\n",
      "View progress and logs at https://console.cloud.google.com/logs/query?project=speca-sandbox-argolis\n",
      "AgentEngine created. Resource name: projects/809256159830/locations/us-central1/reasoningEngines/3333341023416877056\n",
      "To use this AgentEngine in another session:\n",
      "agent_engine = vertexai.agent_engines.get('projects/809256159830/locations/us-central1/reasoningEngines/3333341023416877056')\n"
     ]
    }
   ],
   "source": [
    "# Deploy the Agent on AI Engine (This takes a few minutes)\n",
    "remote_agent = agent_engines.create(\n",
    "    agent_engine = adk_agent,             # The Agent instantiated as ADK agent\n",
    "    requirements=requirements,            # Requirements file\n",
    "    extra_packages=extra_packages,        # Extra packages\n",
    "    display_name=config['agent_display_name'],    # Display name  \n",
    "    description=config['agent_description'],     # Description\n",
    "    env_vars=env_vars                     # Env Vars dict\n",
    ")"
   ]
  },
  {
   "cell_type": "markdown",
   "id": "e09c0018",
   "metadata": {},
   "source": [
    "### Test Remote Agent on Agent Engine"
   ]
  },
  {
   "cell_type": "code",
   "execution_count": 14,
   "id": "6c662923",
   "metadata": {},
   "outputs": [
    {
     "name": "stdout",
     "output_type": "stream",
     "text": [
      "============================ \n",
      "Agent: Fiscal Agent Gobierno de El Salvador\n",
      "Resoruce Name: projects/809256159830/locations/us-central1/reasoningEngines/3333341023416877056\n",
      "Created/updated at: 2025-06-16 03:34:31.816880+00:00 \n",
      "\n",
      "\n",
      "============================ \n",
      "Agent: Procurement Analytics Agent\n",
      "Resoruce Name: projects/809256159830/locations/us-central1/reasoningEngines/2791853536969752576\n",
      "Created/updated at: 2025-06-05 17:22:44.496217+00:00 \n",
      "\n",
      "\n",
      "============================ \n",
      "Agent: Legal Analytics Agent\n",
      "Resoruce Name: projects/809256159830/locations/us-central1/reasoningEngines/5506961162320740352\n",
      "Created/updated at: 2025-05-31 15:40:31.286244+00:00 \n",
      "\n",
      "\n",
      "============================ \n",
      "Agent: Data Assistant\n",
      "Resoruce Name: projects/809256159830/locations/us-central1/reasoningEngines/7923142362405011456\n",
      "Created/updated at: 2025-05-31 12:08:18.375253+00:00 \n",
      "\n",
      "\n"
     ]
    }
   ],
   "source": [
    "## Retrieve all existent Agent Engine resource.names (Agents)\n",
    "for agent in agent_engines.list():\n",
    "    print(f\"============================ \\nAgent: {agent.display_name}\\nResoruce Name: {agent.resource_name}\\nCreated/updated at: {agent.update_time} \\n\\n\" )"
   ]
  },
  {
   "cell_type": "code",
   "execution_count": null,
   "id": "a46c0181",
   "metadata": {},
   "outputs": [],
   "source": [
    "#remote_agent = agent_engines.get(\"projects/809256159830/locations/us-central1/reasoningEngines/2791853536969752576\")"
   ]
  },
  {
   "cell_type": "code",
   "execution_count": 15,
   "id": "6a435c3e",
   "metadata": {},
   "outputs": [
    {
     "name": "stdout",
     "output_type": "stream",
     "text": [
      "=================== Remote Agent ============================ \n",
      " Name: Fiscal Agent Gobierno de El Salvador\n",
      " Resoruce Name: projects/809256159830/locations/us-central1/reasoningEngines/3333341023416877056\n",
      " Created/updated at: 2025-06-16 03:34:31.816880+00:00 \n",
      "\n",
      "\n"
     ]
    }
   ],
   "source": [
    "print(f\"=================== Remote Agent ============================ \\n\\\n",
    " Name: {remote_agent.display_name}\\n\\\n",
    " Resoruce Name: {remote_agent.resource_name}\\n\\\n",
    " Created/updated at: {remote_agent.update_time} \\n\\n\" )"
   ]
  },
  {
   "cell_type": "code",
   "execution_count": 16,
   "id": "4bc18e64",
   "metadata": {},
   "outputs": [
    {
     "data": {
      "application/json": {
       "actions": {
        "artifact_delta": {},
        "requested_auth_configs": {},
        "state_delta": {}
       },
       "author": "goes_fiscal_agent",
       "content": {
        "parts": [
         {
          "text": "Hola. Soy un agente especializado en el análisis de datos de ejecución presupuestaria del Gobierno de El Salvador.\n\nPuedo ayudarte a consultar información sobre:\n*   **Instituciones:** Datos de gasto por institución gubernamental.\n*   **Áreas de Gestión:** Información sobre el presupuesto y gasto por áreas funcionales del gobierno.\n*   **Etapas Presupuestarias:** Montos en las diferentes etapas como Programado, Modificado, Compromiso y Devengado.\n*   **Fuentes de Financiamiento:** Desglose del gasto según el origen de los fondos (Fondo General, Préstamos, Donaciones, etc.).\n*   **Unidades Presupuestarias y Líneas de Trabajo:** Detalles a niveles más específicos de la estructura presupuestaria.\n*   **Tiempo:** Análisis por año y mes.\n\nPuedes preguntarme, por ejemplo:\n*   ¿Cuál fue el monto devengado por el Ministerio de Salud en 2023?\n*   ¿Cuánto se comprometió en el área de Desarrollo Social el año pasado?\n*   ¿Cuál es el presupuesto modificado para el Ministerio de Educación este año?\n*   ¿Cómo se distribuye el gasto devengado por fuente de financiamiento en un mes específico?\n\nEstoy listo para ayudarte con tus consultas sobre la ejecución del presupuesto."
         }
        ],
        "role": "model"
       },
       "id": "6tR7xm8R",
       "invocation_id": "e-8c30414b-f640-4110-bfb0-f63df5580d4e",
       "timestamp": 1750044957.355378,
       "usage_metadata": {
        "candidates_token_count": 273,
        "candidates_tokens_details": [
         {
          "modality": "TEXT",
          "token_count": 273
         }
        ],
        "prompt_token_count": 1492,
        "prompt_tokens_details": [
         {
          "modality": "TEXT",
          "token_count": 1492
         }
        ],
        "thoughts_token_count": 246,
        "total_token_count": 2011,
        "traffic_type": "ON_DEMAND"
       }
      },
      "text/plain": [
       "<IPython.core.display.JSON object>"
      ]
     },
     "metadata": {
      "application/json": {
       "expanded": true,
       "root": "root"
      }
     },
     "output_type": "display_data"
    }
   ],
   "source": [
    "# Run a simple query\n",
    "for remote_event in remote_agent.stream_query(\n",
    "    user_id=\"speca@google.com\",\n",
    "    message=\"Hola, o que puedes hacer?\",\n",
    "):\n",
    "    display(JSON(remote_event,expanded=True)) "
   ]
  },
  {
   "cell_type": "code",
   "execution_count": 17,
   "id": "da9b0bdd",
   "metadata": {},
   "outputs": [
    {
     "data": {
      "text/markdown": [
       "```json\n",
       "{\n",
       "  \"content\": {\n",
       "    \"parts\": [\n",
       "      {\n",
       "        \"text\": \"Hola. Soy un agente especializado en el análisis de datos de ejecución presupuestaria del Gobierno de El Salvador.\\n\\nPuedo ayudarte a consultar información sobre:\\n*   **Instituciones:** Datos de gasto por institución gubernamental.\\n*   **Áreas de Gestión:** Información sobre el presupuesto y gasto por áreas funcionales del gobierno.\\n*   **Etapas Presupuestarias:** Montos en las diferentes etapas como Programado, Modificado, Compromiso y Devengado.\\n*   **Fuentes de Financiamiento:** Desglose del gasto según el origen de los fondos (Fondo General, Préstamos, Donaciones, etc.).\\n*   **Unidades Presupuestarias y Líneas de Trabajo:** Detalles a niveles más específicos de la estructura presupuestaria.\\n*   **Tiempo:** Análisis por año y mes.\\n\\nPuedes preguntarme, por ejemplo:\\n*   ¿Cuál fue el monto devengado por el Ministerio de Salud en 2023?\\n*   ¿Cuánto se comprometió en el área de Desarrollo Social el año pasado?\\n*   ¿Cuál es el presupuesto modificado para el Ministerio de Educación este año?\\n*   ¿Cómo se distribuye el gasto devengado por fuente de financiamiento en un mes específico?\\n\\nEstoy listo para ayudarte con tus consultas sobre la ejecución del presupuesto.\"\n",
       "      }\n",
       "    ],\n",
       "    \"role\": \"model\"\n",
       "  },\n",
       "  \"usage_metadata\": {\n",
       "    \"candidates_token_count\": 273,\n",
       "    \"candidates_tokens_details\": [\n",
       "      {\n",
       "        \"modality\": \"TEXT\",\n",
       "        \"token_count\": 273\n",
       "      }\n",
       "    ],\n",
       "    \"prompt_token_count\": 1492,\n",
       "    \"prompt_tokens_details\": [\n",
       "      {\n",
       "        \"modality\": \"TEXT\",\n",
       "        \"token_count\": 1492\n",
       "      }\n",
       "    ],\n",
       "    \"thoughts_token_count\": 246,\n",
       "    \"total_token_count\": 2011,\n",
       "    \"traffic_type\": \"ON_DEMAND\"\n",
       "  },\n",
       "  \"invocation_id\": \"e-8c30414b-f640-4110-bfb0-f63df5580d4e\",\n",
       "  \"author\": \"goes_fiscal_agent\",\n",
       "  \"actions\": {\n",
       "    \"state_delta\": {},\n",
       "    \"artifact_delta\": {},\n",
       "    \"requested_auth_configs\": {}\n",
       "  },\n",
       "  \"id\": \"6tR7xm8R\",\n",
       "  \"timestamp\": 1750044957.355378\n",
       "}\n",
       "```"
      ],
      "text/plain": [
       "<IPython.core.display.Markdown object>"
      ]
     },
     "metadata": {},
     "output_type": "display_data"
    }
   ],
   "source": [
    "# Formatted output\n",
    "display(Markdown(f\"```json\\n{json.dumps(remote_event, indent=2,ensure_ascii=False)}\\n```\"))"
   ]
  }
 ],
 "metadata": {
  "kernelspec": {
   "display_name": ".venv",
   "language": "python",
   "name": "python3"
  },
  "language_info": {
   "codemirror_mode": {
    "name": "ipython",
    "version": 3
   },
   "file_extension": ".py",
   "mimetype": "text/x-python",
   "name": "python",
   "nbconvert_exporter": "python",
   "pygments_lexer": "ipython3",
   "version": "3.12.6"
  }
 },
 "nbformat": 4,
 "nbformat_minor": 5
}
