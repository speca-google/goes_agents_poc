{
 "cells": [
  {
   "cell_type": "code",
   "execution_count": null,
   "id": "9cc29332",
   "metadata": {},
   "outputs": [],
   "source": [
    "# Copyright 2025 Google LLC\n",
    "#\n",
    "# Licensed under the Apache License, Version 2.0 (the \"License\");\n",
    "# you may not use this file except in compliance with the License.\n",
    "# You may obtain a copy of the License at\n",
    "#\n",
    "#     http://www.apache.org/licenses/LICENSE-2.0\n",
    "#\n",
    "# Unless required by applicable law or agreed to in writing, software\n",
    "# distributed under the License is distributed on an \"AS IS\" BASIS,\n",
    "# WITHOUT WARRANTIES OR CONDITIONS OF ANY KIND, either express or implied.\n",
    "# See the License for the specific language governing permissions and\n",
    "# limitations under the License."
   ]
  },
  {
   "cell_type": "markdown",
   "id": "2936e58f",
   "metadata": {},
   "source": [
    "# Deploy Agent Engine Agent on Agentspace"
   ]
  },
  {
   "cell_type": "markdown",
   "id": "a40bdc45",
   "metadata": {},
   "source": [
    "### Retrieve agents deployed on Agent Engine\n",
    "\n",
    "The first step is to confirm that the agents that you want to deploy on Agentspace are functional in Agent Engine\n",
    "\n",
    "[Docs](https://drive.google.com/file/d/1BSbt_UUNdzy5YvEVuDez7RihMdJ6pbul/view?resourcekey=0-IYbPfqERhbtRzSu_gvHy6A)"
   ]
  },
  {
   "cell_type": "code",
   "execution_count": 1,
   "id": "f27d9b10",
   "metadata": {},
   "outputs": [],
   "source": [
    "# Basic Libraries\n",
    "import vertexai\n",
    "\n",
    "# AI Engine on Vertex AI \n",
    "from vertexai import agent_engines\n",
    "\n",
    "# To view JSON response formatted \n",
    "import json\n",
    "from IPython.display import display,Markdown,JSON"
   ]
  },
  {
   "cell_type": "code",
   "execution_count": 3,
   "id": "61751940",
   "metadata": {},
   "outputs": [
    {
     "name": "stdout",
     "output_type": "stream",
     "text": [
      "Your browser has been opened to visit:\n",
      "\n",
      "    https://accounts.google.com/o/oauth2/auth?response_type=code&client_id=764086051850-6qr4p6gpi6hn506pt8ejuq83di341hur.apps.googleusercontent.com&redirect_uri=http%3A%2F%2Flocalhost%3A8085%2F&scope=openid+https%3A%2F%2Fwww.googleapis.com%2Fauth%2Fuserinfo.email+https%3A%2F%2Fwww.googleapis.com%2Fauth%2Fcloud-platform+https%3A%2F%2Fwww.googleapis.com%2Fauth%2Fsqlservice.login&state=G6z1fHp7PSeApwCaWF4OkVTuVVNRyA&access_type=offline&code_challenge=w9TfpcnmLansTH7d21d1QhVyvFmyuOMWlOyFOSc4Bh0&code_challenge_method=S256\n",
      "\n",
      "\n",
      "Credentials saved to file: [/Users/speca/.config/gcloud/application_default_credentials.json]\n",
      "\n",
      "These credentials will be used by any library that requests Application Default Credentials (ADC).\n",
      "\n",
      "Quota project \"speca-sandbox-argolis\" was added to ADC which can be used by Google client libraries for billing and quota. Note that some services may still bill the project owning the resource.\n"
     ]
    }
   ],
   "source": [
    "# Authentication on gcloud\n",
    "!gcloud auth application-default login"
   ]
  },
  {
   "cell_type": "code",
   "execution_count": 4,
   "id": "3e409783",
   "metadata": {},
   "outputs": [],
   "source": [
    "# For Vertex AI SDK \n",
    "PROJECT_ID = \"speca-sandbox-argolis\"\n",
    "LOCATION = \"us-central1\"\n",
    "BUCKET = \"gs://speca-argolis-adk-agents\""
   ]
  },
  {
   "cell_type": "code",
   "execution_count": 5,
   "id": "00b4d0eb",
   "metadata": {},
   "outputs": [],
   "source": [
    "# Instantiate Vertex AI\n",
    "vertexai.init(\n",
    "    project=PROJECT_ID,\n",
    "    location=LOCATION,\n",
    "    staging_bucket=BUCKET,\n",
    ")"
   ]
  },
  {
   "cell_type": "code",
   "execution_count": 6,
   "id": "da02042b",
   "metadata": {},
   "outputs": [
    {
     "name": "stdout",
     "output_type": "stream",
     "text": [
      "============================ \n",
      "Agent: Fiscal Agent Gobierno de El Salvador\n",
      "Resoruce Name: projects/809256159830/locations/us-central1/reasoningEngines/3333341023416877056\n",
      "Created/updated at: 2025-06-16 03:34:31.816880+00:00 \n",
      "\n",
      "\n",
      "============================ \n",
      "Agent: Procurement Analytics Agent\n",
      "Resoruce Name: projects/809256159830/locations/us-central1/reasoningEngines/2791853536969752576\n",
      "Created/updated at: 2025-06-05 17:22:44.496217+00:00 \n",
      "\n",
      "\n",
      "============================ \n",
      "Agent: Legal Analytics Agent\n",
      "Resoruce Name: projects/809256159830/locations/us-central1/reasoningEngines/5506961162320740352\n",
      "Created/updated at: 2025-05-31 15:40:31.286244+00:00 \n",
      "\n",
      "\n",
      "============================ \n",
      "Agent: Data Assistant\n",
      "Resoruce Name: projects/809256159830/locations/us-central1/reasoningEngines/7923142362405011456\n",
      "Created/updated at: 2025-05-31 12:08:18.375253+00:00 \n",
      "\n",
      "\n"
     ]
    }
   ],
   "source": [
    "## Retrieve all existent Agent Engine resource.names (Agents)\n",
    "for agent in agent_engines.list():\n",
    "    print(f\"============================ \\nAgent: {agent.display_name}\\nResoruce Name: {agent.resource_name}\\nCreated/updated at: {agent.update_time} \\n\\n\" )"
   ]
  },
  {
   "cell_type": "code",
   "execution_count": 7,
   "id": "6376584c",
   "metadata": {},
   "outputs": [],
   "source": [
    "# Retrieve the agent for testing\n",
    "remote_agent = agent_engines.get(\"projects/809256159830/locations/us-central1/reasoningEngines/3333341023416877056\")"
   ]
  },
  {
   "cell_type": "code",
   "execution_count": 8,
   "id": "aa3916ff",
   "metadata": {},
   "outputs": [
    {
     "data": {
      "text/markdown": [
       "```json\n",
       "{\n",
       "  \"content\": {\n",
       "    \"parts\": [\n",
       "      {\n",
       "        \"text\": \"Hola, ¿en qué puedo ayudarte hoy con respecto a los datos de ejecución presupuestaria del Gobierno de El Salvador?\"\n",
       "      }\n",
       "    ],\n",
       "    \"role\": \"model\"\n",
       "  },\n",
       "  \"usage_metadata\": {\n",
       "    \"candidates_token_count\": 25,\n",
       "    \"candidates_tokens_details\": [\n",
       "      {\n",
       "        \"modality\": \"TEXT\",\n",
       "        \"token_count\": 25\n",
       "      }\n",
       "    ],\n",
       "    \"prompt_token_count\": 1486,\n",
       "    \"prompt_tokens_details\": [\n",
       "      {\n",
       "        \"modality\": \"TEXT\",\n",
       "        \"token_count\": 1486\n",
       "      }\n",
       "    ],\n",
       "    \"thoughts_token_count\": 39,\n",
       "    \"total_token_count\": 1550,\n",
       "    \"traffic_type\": \"ON_DEMAND\"\n",
       "  },\n",
       "  \"invocation_id\": \"e-8b9282e5-c162-4b2f-9df4-923c51293d07\",\n",
       "  \"author\": \"goes_fiscal_agent\",\n",
       "  \"actions\": {\n",
       "    \"state_delta\": {},\n",
       "    \"artifact_delta\": {},\n",
       "    \"requested_auth_configs\": {}\n",
       "  },\n",
       "  \"id\": \"tpBP5jiT\",\n",
       "  \"timestamp\": 1750045266.142373\n",
       "}\n",
       "```"
      ],
      "text/plain": [
       "<IPython.core.display.Markdown object>"
      ]
     },
     "metadata": {},
     "output_type": "display_data"
    }
   ],
   "source": [
    "# Run a simple query\n",
    "for remote_event in remote_agent.stream_query(\n",
    "    user_id=\"user_1\",\n",
    "    message=\"Hola\",\n",
    "):  pass\n",
    "    #display(JSON(remote_event,expanded=True))\n",
    "\n",
    "# Formatted output\n",
    "display(Markdown(f\"```json\\n{json.dumps(remote_event, indent=2,ensure_ascii=False)}\\n```\"))"
   ]
  },
  {
   "cell_type": "markdown",
   "id": "108873ea",
   "metadata": {},
   "source": [
    "### Deploy Agent on Agentspace\n",
    "\n",
    "After confirming that Agent is running OK on Agent Engine, there are two ways possible to deploy the agent running on Agent Engine on Agentspace: \n",
    "\n",
    "1) Deploy as an Agent on \"My Agents\" (from the doc: ) \n",
    "2) Deploy as a Company Agent (former option - still working)\n",
    "\n",
    "Both methods is through API to publish some configuration on Agentspace.\n",
    "\n",
    "Obs.: Some internal docs are doing this using CURL command, This notebook are using requests but is the same. \n"
   ]
  },
  {
   "cell_type": "code",
   "execution_count": 9,
   "id": "371357fc",
   "metadata": {},
   "outputs": [],
   "source": [
    "# Libraries\n",
    "import subprocess\n",
    "import json\n",
    "import requests"
   ]
  },
  {
   "cell_type": "code",
   "execution_count": 10,
   "id": "3abaaada",
   "metadata": {},
   "outputs": [
    {
     "name": "stdout",
     "output_type": "stream",
     "text": [
      "Your browser has been opened to visit:\n",
      "\n",
      "    https://accounts.google.com/o/oauth2/auth?response_type=code&client_id=32555940559.apps.googleusercontent.com&redirect_uri=http%3A%2F%2Flocalhost%3A8085%2F&scope=openid+https%3A%2F%2Fwww.googleapis.com%2Fauth%2Fuserinfo.email+https%3A%2F%2Fwww.googleapis.com%2Fauth%2Fcloud-platform+https%3A%2F%2Fwww.googleapis.com%2Fauth%2Fappengine.admin+https%3A%2F%2Fwww.googleapis.com%2Fauth%2Fsqlservice.login+https%3A%2F%2Fwww.googleapis.com%2Fauth%2Fcompute+https%3A%2F%2Fwww.googleapis.com%2Fauth%2Faccounts.reauth&state=r0HvbVw73P1vXaxRpM4weqO8vWFUUy&access_type=offline&code_challenge=c6vQPPePSy531KyIKrAVcQPuh01ycEPSCh6fgRaEGiY&code_challenge_method=S256\n",
      "\n",
      "\n",
      "You are now logged in as [admin@speca.altostrat.com].\n",
      "Your current project is [speca-sandbox-argolis].  You can change this setting by running:\n",
      "  $ gcloud config set project PROJECT_ID\n"
     ]
    }
   ],
   "source": [
    "! gcloud auth login"
   ]
  },
  {
   "cell_type": "markdown",
   "id": "3f63d206",
   "metadata": {},
   "source": [
    "### Basic Agent configuration\n",
    "\n",
    "This step is needed for both options\n",
    "\n",
    "\n"
   ]
  },
  {
   "cell_type": "code",
   "execution_count": 11,
   "id": "ccf7115f",
   "metadata": {},
   "outputs": [],
   "source": [
    "# The ID of your Google Cloud project.\n",
    "project_id = PROJECT_ID\n",
    "\n",
    "# The ID of the Agentspace app (see: https://cloud.google.com/agentspace/agentspace-enterprise/docs/assistant ).\n",
    "app_id = \"agentspace-goes_1750043440771\"\n",
    "\n",
    "# The display name of the agent.\n",
    "display_name = \"Agente Transparencia Fiscal\"\n",
    "\n",
    "# The description of the agent, displayed on the frontend; it is only for the user’s benefit.\n",
    "description = \"Agente de datos abiertos del portal de transparencia fiscal\"\n",
    "\n",
    "# The description of the agent used by the LLM to route requests to the agent.\n",
    "# Must properly describe what the agent does. Never shown to the user.\n",
    "tool_description = \"Useful agent to support El Salvador government fical analysts to identify insights and trends in data.\"\n",
    "\n",
    "# The ID of the reasoning engine endpoint where the ADK agent is deployed (Resource.name).\n",
    "adk_deployment_name = remote_agent.resource_name # The remote_agent.resource_name Deployed\n",
    " "
   ]
  },
  {
   "cell_type": "markdown",
   "id": "b14a0d74",
   "metadata": {},
   "source": [
    "###  (Option 1) - Deploy on \"My Agents\" list\n",
    "\n",
    "This option will deploy the Agent on the users list (see the url: \"...default_assistant/agents\")"
   ]
  },
  {
   "cell_type": "markdown",
   "id": "1db54964",
   "metadata": {},
   "source": [
    "##### Configure the link between AS and AE Agent"
   ]
  },
  {
   "cell_type": "code",
   "execution_count": 12,
   "id": "4f05d7b0",
   "metadata": {},
   "outputs": [
    {
     "name": "stdout",
     "output_type": "stream",
     "text": [
      "Status Code: 200\n",
      "Response JSON: \n",
      "\n"
     ]
    },
    {
     "data": {
      "application/json": {
       "adkAgentDefinition": {
        "provisionedReasoningEngine": {
         "reasoningEngine": "projects/809256159830/locations/us-central1/reasoningEngines/3333341023416877056"
        },
        "toolSettings": {
         "toolDescription": "Useful agent to support El Salvador government fical analysts to identify insights and trends in data."
        }
       },
       "description": "Agente de datos abiertos del portal de transparencia fiscal",
       "displayName": "Agente Transparencia Fiscal",
       "name": "projects/809256159830/locations/global/collections/default_collection/engines/agentspace-goes_1750043440771/assistants/default_assistant/agents/10642103825023320333",
       "state": "CONFIGURED"
      },
      "text/plain": [
       "<IPython.core.display.JSON object>"
      ]
     },
     "execution_count": 12,
     "metadata": {
      "application/json": {
       "expanded": false,
       "root": "root"
      }
     },
     "output_type": "execute_result"
    }
   ],
   "source": [
    "# # Get the access token from gcloud\n",
    "try:\n",
    "    access_token = subprocess.check_output(\n",
    "        \"gcloud auth print-access-token\", shell=True, text=True\n",
    "    ).strip()\n",
    "except subprocess.CalledProcessError as e:\n",
    "    print(f\"Error getting access token: {e}\")\n",
    "    exit()\n",
    "\n",
    "# API endpoint\n",
    "url = f\"https://discoveryengine.googleapis.com/v1alpha/projects/{project_id}/locations/global/collections/default_collection/engines/{app_id}/assistants/default_assistant/agents\"\n",
    "\n",
    "# Headers\n",
    "headers = {\n",
    "    \"Authorization\": f\"Bearer {access_token}\",\n",
    "    \"Content-Type\": \"application/json\",\n",
    "    \"X-Goog-User-Project\": project_id,\n",
    "}\n",
    "\n",
    "# Data payload\n",
    "data = {\n",
    "    \"displayName\": display_name,\n",
    "    \"description\": description,\n",
    "    \"adk_agent_definition\": {\n",
    "        \"tool_settings\": {\"tool_description\": tool_description},\n",
    "        \"provisioned_reasoning_engine\": {\"reasoning_engine\": adk_deployment_name},\n",
    "    },\n",
    "}\n",
    "\n",
    "# Make the POST request\n",
    "response = requests.post(url, headers=headers, data=json.dumps(data))\n",
    "\n",
    "# Print the response\n",
    "print(f\"Status Code: {response.status_code}\")\n",
    "print(f\"Response JSON: \\n\")\n",
    "JSON(response.json())"
   ]
  },
  {
   "cell_type": "markdown",
   "id": "b989201c",
   "metadata": {},
   "source": [
    "##### Visualize configs"
   ]
  },
  {
   "cell_type": "code",
   "execution_count": null,
   "id": "52145993",
   "metadata": {},
   "outputs": [],
   "source": [
    "# Get the access token from gcloud\n",
    "try:\n",
    "    access_token = subprocess.check_output(\n",
    "        \"gcloud auth print-access-token\", shell=True, text=True\n",
    "    ).strip()\n",
    "except subprocess.CalledProcessError as e:\n",
    "    print(f\"Error getting access token: {e}\")\n",
    "    exit()\n",
    "\n",
    "# API endpoint\n",
    "url_get = f\"https://discoveryengine.googleapis.com/v1alpha/projects/{project_id}/locations/global/collections/default_collection/engines/{app_id}/assistants/default_assistant/agents\"\n",
    "\n",
    "# Headers\n",
    "headers = {\n",
    "    \"Authorization\": f\"Bearer {access_token}\",\n",
    "    \"Content-Type\": \"application/json\",\n",
    "    \"X-Goog-User-Project\": project_id,\n",
    "}\n",
    "\n",
    "# Make the POST request\n",
    "response = requests.get(url_get, headers=headers)\n",
    "\n",
    "# Print the response\n",
    "print(f\"Status Code: {response.status_code}\")\n",
    "print(f\"Response JSON: \\n\")\n",
    "#display(JSON(response.json(),expanded=True))\n",
    "\n",
    "# Envolvendo em um bloco de código Markdown para exibição\n",
    "display(Markdown(f\"```json\\n{json.dumps(response.json(), indent=2)}\\n```\"))"
   ]
  },
  {
   "cell_type": "markdown",
   "id": "7af3c5a3",
   "metadata": {},
   "source": [
    "#### Delete Agents"
   ]
  },
  {
   "cell_type": "code",
   "execution_count": null,
   "id": "c198f01f",
   "metadata": {},
   "outputs": [],
   "source": [
    "agent_delete = \"4199639121138852578\"\n",
    "# Get the access token from gcloud\n",
    "try:\n",
    "    access_token = subprocess.check_output(\n",
    "        \"gcloud auth print-access-token\", shell=True, text=True\n",
    "    ).strip()\n",
    "except subprocess.CalledProcessError as e:\n",
    "    print(f\"Error getting access token: {e}\")\n",
    "    exit()\n",
    "\n",
    "# API endpoint\n",
    "url_get = f\"https://discoveryengine.googleapis.com/v1alpha/projects/{project_id}/locations/global/collections/default_collection/engines/{app_id}/assistants/default_assistant/agents/{agent_delete}\"\n",
    "\n",
    "# Headers\n",
    "headers = {\n",
    "    \"Authorization\": f\"Bearer {access_token}\",\n",
    "    \"Content-Type\": \"application/json\",\n",
    "    \"X-Goog-User-Project\": project_id,\n",
    "}\n",
    "\n",
    "# Make the POST request\n",
    "response = requests.delete(url_get, headers=headers)\n",
    "\n",
    "# Print the response\n",
    "print(f\"Status Code: {response.status_code}\")\n",
    "print(f\"Response JSON: \\n\")\n",
    "#display(JSON(response.json(),expanded=True))\n",
    "\n",
    "# Envolvendo em um bloco de código Markdown para exibição\n",
    "display(Markdown(f\"```json\\n{json.dumps(response.json(), indent=2)}\\n```\"))"
   ]
  },
  {
   "cell_type": "markdown",
   "id": "6430a829",
   "metadata": {},
   "source": [
    "### (Option 2) Deploy on \"Company Agents\" list (DEPRECATED)\n",
    "\n",
    "This option will deploy the Agent on the company list (see the url: \"...default_assistant?updateMask=agentConfigs\")"
   ]
  },
  {
   "cell_type": "markdown",
   "id": "bf999506",
   "metadata": {},
   "source": [
    "##### Configure the link between AS and AE Agent"
   ]
  },
  {
   "cell_type": "code",
   "execution_count": null,
   "id": "679da408",
   "metadata": {},
   "outputs": [],
   "source": [
    "# # Get the access token from gcloud\n",
    "# try:\n",
    "#     access_token = subprocess.check_output(\n",
    "#         \"gcloud auth print-access-token\", shell=True, text=True\n",
    "#     ).strip()\n",
    "# except subprocess.CalledProcessError as e:\n",
    "#     print(f\"Error getting access token: {e}\")\n",
    "#     exit()\n",
    "\n",
    "# # API endpoint\n",
    "# url = f\"https://discoveryengine.googleapis.com/v1alpha/projects/{project_id}/locations/global/collections/default_collection/engines/{app_id}/assistants/default_assistant?updateMask=agentConfigs\"\n",
    "\n",
    "# # Headers\n",
    "# headers = {\n",
    "#     \"Authorization\": f\"Bearer {access_token}\",\n",
    "#     \"Content-Type\": \"application/json\",\n",
    "#     \"X-Goog-User-Project\": project_id,\n",
    "# }\n",
    "\n",
    "# # Data payload\n",
    "# data = {\n",
    "#     \"agentConfigs\": [{\n",
    "#         \"displayName\": display_name,\n",
    "#         \"toolDescription\": tool_description,\n",
    "#         \"vertexAiSdkAgentConnectionInfo\": {\n",
    "#             \"reasoningEngine\": adk_deployment_name\n",
    "#          },\n",
    "     \n",
    "#      \"icon\": {\n",
    "#        \"uri\": \"https://fonts.gstatic.com/s/i/short-term/release/googlesymbols/search_insights/default/24px.svg\"\n",
    "#      },\n",
    "#      \"id\": \"legal_data_assistant\"\n",
    "#    }]\n",
    "# }\n",
    "\n",
    "# # Make the POST request\n",
    "# response = requests.patch(url, headers=headers, data=json.dumps(data))\n",
    "\n",
    "# # Print the response\n",
    "# print(f\"Status Code: {response.status_code}\")\n",
    "# print(f\"Response JSON: \\n\")\n",
    "# #display(JSON(response.json(),expanded=True))\n",
    "\n",
    "# # Envolvendo em um bloco de código Markdown para exibição\n",
    "# display(Markdown(f\"```json\\n{json.dumps(response.json(), indent=2)}\\n```\"))"
   ]
  },
  {
   "cell_type": "markdown",
   "id": "6f662f4f",
   "metadata": {},
   "source": [
    "##### Visualize configs"
   ]
  },
  {
   "cell_type": "code",
   "execution_count": null,
   "id": "ff6f7043",
   "metadata": {},
   "outputs": [],
   "source": [
    "# Get the access token from gcloud\n",
    "try:\n",
    "    access_token = subprocess.check_output(\n",
    "        \"gcloud auth print-access-token\", shell=True, text=True\n",
    "    ).strip()\n",
    "except subprocess.CalledProcessError as e:\n",
    "    print(f\"Error getting access token: {e}\")\n",
    "    exit()\n",
    "\n",
    "# API endpoint\n",
    "url_get = f\"https://discoveryengine.googleapis.com/v1alpha/projects/{project_id}/locations/global/collections/default_collection/engines/{app_id}/assistants/default_assistant\"\n",
    "\n",
    "# Headers\n",
    "headers = {\n",
    "    \"Authorization\": f\"Bearer {access_token}\",\n",
    "    \"Content-Type\": \"application/json\",\n",
    "    \"X-Goog-User-Project\": project_id,\n",
    "}\n",
    "\n",
    "# Make the POST request\n",
    "response = requests.get(url_get, headers=headers)\n",
    "\n",
    "# Print the response\n",
    "print(f\"Status Code: {response.status_code}\")\n",
    "print(f\"Response JSON: \\n\")\n",
    "#display(JSON(response.json(),expanded=True))\n",
    "\n",
    "# Envolvendo em um bloco de código Markdown para exibição\n",
    "display(Markdown(f\"```json\\n{json.dumps(response.json(), indent=2)}\\n```\"))"
   ]
  },
  {
   "cell_type": "markdown",
   "id": "14780556",
   "metadata": {},
   "source": [
    "#### Remove Agent"
   ]
  },
  {
   "cell_type": "code",
   "execution_count": null,
   "id": "489639bf",
   "metadata": {},
   "outputs": [],
   "source": [
    "# Get the access token from gcloud\n",
    "try:\n",
    "    access_token = subprocess.check_output(\n",
    "        \"gcloud auth print-access-token\", shell=True, text=True\n",
    "    ).strip()\n",
    "except subprocess.CalledProcessError as e:\n",
    "    print(f\"Error getting access token: {e}\")\n",
    "    exit()\n",
    "\n",
    "# API endpoint\n",
    "url = f\"https://discoveryengine.googleapis.com/v1alpha/projects/{project_id}/locations/global/collections/default_collection/engines/{app_id}/assistants/default_assistant?updateMask=agentConfigs\"\n",
    "\n",
    "# Headers\n",
    "headers = {\n",
    "    \"Authorization\": f\"Bearer {access_token}\",\n",
    "    \"Content-Type\": \"application/json\",\n",
    "    \"X-Goog-User-Project\": project_id,\n",
    "}\n",
    "\n",
    "# Data payload\n",
    "data = {\n",
    "#     \"agentConfigs\": [{\n",
    "#         \"displayName\": display_name,\n",
    "#         \"toolDescription\": tool_description,\n",
    "#         \"vertexAiSdkAgentConnectionInfo\": {\n",
    "#             \"reasoningEngine\": adk_deployment_name\n",
    "#          },\n",
    "     \n",
    "#      \"icon\": {\n",
    "#        \"uri\": \"https://fonts.gstatic.com/s/i/short-term/release/googlesymbols/search_insights/default/24px.svg\"\n",
    "#      },\n",
    "#      \"id\": \"legal_data_assistant\"\n",
    "#    }]\n",
    "}\n",
    "\n",
    "# Make the POST request\n",
    "response = requests.patch(url, headers=headers, data=json.dumps(data))\n",
    "\n",
    "# Print the response\n",
    "print(f\"Status Code: {response.status_code}\")\n",
    "print(f\"Response JSON: \\n\")\n",
    "#display(JSON(response.json(),expanded=True))\n",
    "\n",
    "# Envolvendo em um bloco de código Markdown para exibição\n",
    "display(Markdown(f\"```json\\n{json.dumps(response.json(), indent=2)}\\n```\"))"
   ]
  }
 ],
 "metadata": {
  "kernelspec": {
   "display_name": ".venv",
   "language": "python",
   "name": "python3"
  },
  "language_info": {
   "codemirror_mode": {
    "name": "ipython",
    "version": 3
   },
   "file_extension": ".py",
   "mimetype": "text/x-python",
   "name": "python",
   "nbconvert_exporter": "python",
   "pygments_lexer": "ipython3",
   "version": "3.12.6"
  }
 },
 "nbformat": 4,
 "nbformat_minor": 5
}
